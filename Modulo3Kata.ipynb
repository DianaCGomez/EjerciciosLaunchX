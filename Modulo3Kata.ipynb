{
 "cells": [
  {
   "cell_type": "markdown",
   "metadata": {},
   "source": [
    "# Ejercicios `if`, `else`, y `elif`"
   ]
  },
  {
   "cell_type": "code",
   "execution_count": 6,
   "metadata": {},
   "outputs": [
    {
     "name": "stdout",
     "output_type": "stream",
     "text": [
      "No puedes pasar eres menor de edad\n"
     ]
    }
   ],
   "source": [
    "if 15<18:\n",
    "    print(\"No puedes pasar eres menor de edad\")"
   ]
  },
  {
   "cell_type": "code",
   "execution_count": 7,
   "metadata": {},
   "outputs": [
    {
     "name": "stdout",
     "output_type": "stream",
     "text": [
      "No puedes pasar eres menor de edad\n",
      "Pasa eres mayor de edad\n"
     ]
    }
   ],
   "source": [
    "if 15<18:\n",
    "    print(\"No puedes pasar eres menor de edad\")\n",
    "    if 19>18:\n",
    "        print(\"Pasa eres mayor de edad\")\n",
    "    else: \n",
    "        print(\"No puedes pasar eres menor de edad\")\n",
    "elif 17>=18:\n",
    "    print(\"pasale\")\n",
    "else:\n",
    "    print(\"¡Hasta la próxima!\")"
   ]
  },
  {
   "cell_type": "markdown",
   "metadata": {},
   "source": [
    " # Alerta de asteroide\n",
    " Para este ejercicio, escribirás una lógica condicional que imprima una advertencia si un asteroide se acerca a la Tierra demasiado rápido. La velocidad del asteroide varía dependiendo de lo cerca que esté del sol, y cualquier velocidad superior a 25 kilómetros por segundo (km/s) merece una advertencia.\n",
    "\n",
    "Un asteroide se acerca, y viaja a una velocidad de 49 km/s.\n",
    "\n",
    " *  Añadir el código necesario para crear una variable que guarde la velocidad del asteroide.\n",
    " *  Escribe una expresión de prueba para calcular si necesita una advertencia.\n",
    " *  Agregue las instrucciones que se ejecutarán si la expresión de prueba es true o false."
   ]
  },
  {
   "cell_type": "code",
   "execution_count": 10,
   "metadata": {},
   "outputs": [
    {
     "name": "stdout",
     "output_type": "stream",
     "text": [
      "Peligro!!! un asteroide se acerca a la tierra\n"
     ]
    }
   ],
   "source": [
    "asteroide= 49\n",
    "if asteroide>25:\n",
    "    print(\"Peligro!!! un asteroide se acerca a la tierra\")\n",
    "else:\n",
    "    print(\"sigue con tu vida\")"
   ]
  },
  {
   "cell_type": "markdown",
   "metadata": {},
   "source": [
    "Si un asteroide entra en la atmósfera de la Tierra a una velocidad mayor o igual a 20 km/s, a veces produce un rayo de luz que se puede ver desde la Tierra. Escribe la lógica condicional que usa declaraciones `if`, `else`, y `elif` para alertar a las personas de todo el mundo que deben buscar un asteroide en el cielo. ¡Hay uno que se dirige a la tierra ahora a una velocidad de 19 km/s!\n",
    "\n",
    "* Agrega el código para crear una variable para un asteroide que viaja a 19 km/s\n",
    "* Escribe varias expresiones de prueba para determinar si puedes ver el rayo de luz desde la tierra\n",
    "* Agrega las instrucciones que se ejecutarán si las expresiones de prueba son True o False"
   ]
  },
  {
   "cell_type": "code",
   "execution_count": null,
   "metadata": {},
   "outputs": [],
   "source": [
    "asteroide = 19\n",
    "if asteroide > 20:\n",
    "    print(\"Hay una luz en el cielo\")\n",
    "elif asteroide == 20:\n",
    "    print(\"Hay una luz en el cielo\")\n",
    "else:\n",
    "    print(\"Continua con tu vida\")"
   ]
  },
  {
   "cell_type": "markdown",
   "metadata": {},
   "source": [
    "Aquí está la nueva información que necesitas saber:\n",
    "\n",
    "*Los asteroides de menos de 25 metros en su dimensión más grande probablemente se quemarán a medida que entren en la atmósfera de la Tierra.\n",
    "* Si una pieza de un asteroide que es más grande que 25 metros pero más pequeña que 1000 metros golpeara la Tierra, causaría mucho daño.\n",
    "\n",
    "También discutimos en el ejercicio anterior que:\n",
    "\n",
    "* La velocidad del asteroide varía en función de lo cerca que esté del sol, y cualquier velocidad superior a 25 kilómetros por segundo (km/s) merece una advertencia.\n",
    "* Si un asteroide entra en la atmósfera de la Tierra a una velocidad mayor o igual a 20 km/s, a veces produce un rayo de luz que se puede ver desde la Tierra.\n",
    "\n",
    "* Agrega el código para crear nuevas variables para la velocidad y el tamaño del asteroide\n",
    "* Para probar el código, prueba con varias velocidades y tamaños\n",
    "* Escribe varias expresiones de prueba o combinaciones de expresiones de prueba para determinar qué mensaje se debe enviar a Tierra."
   ]
  },
  {
   "cell_type": "code",
   "execution_count": 14,
   "metadata": {},
   "outputs": [
    {
     "name": "stdout",
     "output_type": "stream",
     "text": [
      "Look up! ¡Hay una luz mágica en el cielo!\n"
     ]
    }
   ],
   "source": [
    "velAsteroide = 25\n",
    "tAsteroide = 40\n",
    "if velAsteroide > 25 and tAsteroide > 25:\n",
    "    print(\"Peligro, se acerca el fin del mundo\")\n",
    "elif velAsteroide >= 20:\n",
    "    print(\"Los marcianos vienen ya\")\n",
    "elif tAsteroide < 25:\n",
    "    print(\"Aun no es tu hora has la tarea\")\n",
    "else:\n",
    "    print(\"Aun no es tu hora has la tarea\")"
   ]
  }
 ],
 "metadata": {
  "interpreter": {
   "hash": "85698077abecf5f8f113c53b9360fbacc8ad19c08c5e26cc1c8a281d6153204f"
  },
  "kernelspec": {
   "display_name": "Python 3.10.2 64-bit",
   "language": "python",
   "name": "python3"
  },
  "language_info": {
   "codemirror_mode": {
    "name": "ipython",
    "version": 3
   },
   "file_extension": ".py",
   "mimetype": "text/x-python",
   "name": "python",
   "nbconvert_exporter": "python",
   "pygments_lexer": "ipython3",
   "version": "3.10.2"
  },
  "orig_nbformat": 4
 },
 "nbformat": 4,
 "nbformat_minor": 2
}
